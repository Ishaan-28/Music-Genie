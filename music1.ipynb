{
 "cells": [
  {
   "cell_type": "code",
   "execution_count": 1,
   "metadata": {
    "colab": {
     "base_uri": "https://localhost:8080/"
    },
    "id": "bDqksqwuyTmc",
    "outputId": "35be6b1d-47c6-417c-e433-abaa5b06fc98"
   },
   "outputs": [],
   "source": [
    "# from google.colab import drive\n",
    "# drive.mount('/content/drive/')"
   ]
  },
  {
   "cell_type": "code",
   "execution_count": 3,
   "metadata": {
    "colab": {
     "base_uri": "https://localhost:8080/"
    },
    "id": "orUIn-V1h27p",
    "outputId": "f70e6528-5e47-4ede-bebe-a21d4a5e91ec",
    "scrolled": true
   },
   "outputs": [
    {
     "name": "stdout",
     "output_type": "stream",
     "text": [
      "Collecting python_speech_features\n",
      "  Downloading python_speech_features-0.6.tar.gz (5.6 kB)\n",
      "Building wheels for collected packages: python-speech-features\n",
      "  Building wheel for python-speech-features (setup.py): started\n",
      "  Building wheel for python-speech-features (setup.py): finished with status 'done'\n",
      "  Created wheel for python-speech-features: filename=python_speech_features-0.6-py3-none-any.whl size=5892 sha256=5e83adffe0642611fa2fe179a7d8d3f12a7c9c806d9bb596350d0fc694a2f710\n",
      "  Stored in directory: c:\\users\\ishaa\\appdata\\local\\pip\\cache\\wheels\\5b\\60\\87\\28af2605138deac93d162904df42b6fdda1dab9b8757c62aa3\n",
      "Successfully built python-speech-features\n",
      "Installing collected packages: python-speech-features\n",
      "Successfully installed python-speech-features-0.6\n",
      "Note: you may need to restart the kernel to use updated packages.\n"
     ]
    }
   ],
   "source": [
    "pip install python_speech_features"
   ]
  },
  {
   "cell_type": "code",
   "execution_count": 1,
   "metadata": {
    "id": "GELsPjwUhJL3"
   },
   "outputs": [],
   "source": [
    "from python_speech_features import mfcc\n",
    "import scipy.io.wavfile as wav\n",
    "import numpy as np\n",
    "\n",
    "from tempfile import TemporaryFile\n",
    "import os\n",
    "import pickle\n",
    "import random \n",
    "import operator\n",
    "\n",
    "import math\n",
    "import numpy as np\n",
    "\n"
   ]
  },
  {
   "cell_type": "code",
   "execution_count": 2,
   "metadata": {
    "id": "_I2TUHvNhPii"
   },
   "outputs": [],
   "source": [
    "def getNeighbors(trainingSet, instance, k):\n",
    "    distances = []\n",
    "    for x in range (len(trainingSet)):\n",
    "        dist = distance(trainingSet[x], instance, k )+ distance(instance, trainingSet[x], k)\n",
    "        distances.append((trainingSet[x][2], dist))\n",
    "    distances.sort(key=operator.itemgetter(1))\n",
    "    neighbors = []\n",
    "    for x in range(k):\n",
    "        neighbors.append(distances[x][0])\n",
    "    return neighbors\n",
    "\n"
   ]
  },
  {
   "cell_type": "code",
   "execution_count": 3,
   "metadata": {
    "id": "pf0XApG5hRaq"
   },
   "outputs": [],
   "source": [
    "def nearestClass(neighbors):\n",
    "    classVote = {}\n",
    "\n",
    "    for x in range(len(neighbors)):\n",
    "        response = neighbors[x]\n",
    "        if response in classVote:\n",
    "            classVote[response]+=1 \n",
    "        else:\n",
    "            classVote[response]=1\n",
    "\n",
    "    sorter = sorted(classVote.items(), key = operator.itemgetter(1), reverse=True)\n",
    "    return sorter[0][0]\n",
    "\n"
   ]
  },
  {
   "cell_type": "code",
   "execution_count": 4,
   "metadata": {
    "id": "pjdFZEGhhUIY"
   },
   "outputs": [],
   "source": [
    "def getAccuracy(testSet, predictions):\n",
    "    correct = 0 \n",
    "    for x in range (len(testSet)):\n",
    "        if testSet[x][-1]==predictions[x]:\n",
    "            correct+=1\n",
    "    return 1.0*correct/len(testSet)\n",
    "\n"
   ]
  },
  {
   "cell_type": "code",
   "execution_count": 17,
   "metadata": {
    "id": "MDrjeyDShZv_"
   },
   "outputs": [
    {
     "name": "stdout",
     "output_type": "stream",
     "text": [
      "1\n",
      "2\n",
      "3\n",
      "4\n",
      "5\n",
      "6\n",
      "7\n",
      "8\n",
      "9\n",
      "10\n"
     ]
    }
   ],
   "source": [
    "directory = \"./Music/genres\"\n",
    "f= open(\"my.dat\" ,'wb')\n",
    "i=0\n",
    "\n",
    "for folder in os.listdir(directory):\n",
    "    i+=1\n",
    "    print(i)\n",
    "    if i==11 :\n",
    "        break \n",
    "    for file in os.listdir(directory+\"/\"+folder):\n",
    "        (rate,sig) = wav.read(directory+\"/\"+folder+\"/\"+file)\n",
    "        mfcc_feat = mfcc(sig,rate ,winlen=0.020, appendEnergy = False)\n",
    "        covariance = np.cov(np.matrix.transpose(mfcc_feat))\n",
    "        mean_matrix = mfcc_feat.mean(0)\n",
    "        feature = (mean_matrix , covariance , i)\n",
    "        pickle.dump(feature , f)\n",
    "\n",
    "f.close()\n",
    "\n"
   ]
  },
  {
   "cell_type": "code",
   "execution_count": 5,
   "metadata": {
    "id": "Dj8NQAOlhacD"
   },
   "outputs": [],
   "source": [
    "dataset = []\n",
    "def loadDataset(filename , split , trSet , teSet):\n",
    "    with open(\"my.dat\" , 'rb') as f:\n",
    "        while True:\n",
    "            try:\n",
    "                dataset.append(pickle.load(f))\n",
    "            except EOFError:\n",
    "                f.close()\n",
    "                break\n",
    "\n",
    "    for x in range(len(dataset)):\n",
    "        if random.random() <split :\n",
    "            trSet.append(dataset[x])\n",
    "        else:\n",
    "            teSet.append(dataset[x])\n",
    "\n",
    "trainingSet = []\n",
    "testSet = []\n",
    "loadDataset(\"my.dat\" , 0.66, trainingSet, testSet)\n"
   ]
  },
  {
   "cell_type": "code",
   "execution_count": 6,
   "metadata": {
    "id": "BcCjOfCoIWeJ"
   },
   "outputs": [],
   "source": [
    "def distance(instance1 , instance2 , k ):\n",
    "    distance =0 \n",
    "    mm1 = instance1[0] \n",
    "    cm1 = instance1[1]\n",
    "    mm2 = instance2[0]\n",
    "    cm2 = instance2[1]\n",
    "    distance = np.trace(np.dot(np.linalg.inv(cm2), cm1)) \n",
    "    distance+=(np.dot(np.dot((mm2-mm1).transpose() , np.linalg.inv(cm2)) , mm2-mm1 )) \n",
    "    distance+= np.log(np.linalg.det(cm2)) - np.log(np.linalg.det(cm1))\n",
    "    distance-= k\n",
    "    return distance\n"
   ]
  },
  {
   "cell_type": "markdown",
   "metadata": {},
   "source": [
    "# Finding Accuracy"
   ]
  },
  {
   "cell_type": "code",
   "execution_count": 7,
   "metadata": {
    "colab": {
     "base_uri": "https://localhost:8080/"
    },
    "id": "OR00K24khcPf",
    "outputId": "fb405c52-2dda-480c-d930-58a90d8b5eb1"
   },
   "outputs": [
    {
     "ename": "SyntaxError",
     "evalue": "invalid syntax (<ipython-input-7-70f0c2df0e05>, line 4)",
     "output_type": "error",
     "traceback": [
      "\u001b[1;36m  File \u001b[1;32m\"<ipython-input-7-70f0c2df0e05>\"\u001b[1;36m, line \u001b[1;32m4\u001b[0m\n\u001b[1;33m    if(x%10)\u001b[0m\n\u001b[1;37m            ^\u001b[0m\n\u001b[1;31mSyntaxError\u001b[0m\u001b[1;31m:\u001b[0m invalid syntax\n"
     ]
    }
   ],
   "source": [
    "leng = len(testSet)\n",
    "predictions = []\n",
    "for x in range (leng):\n",
    "    if(x%10)\n",
    "        print(x)\n",
    "    predictions.append(nearestClass(getNeighbors(trainingSet ,testSet[x] , 5))) \n",
    "\n",
    "accuracy1 = getAccuracy(testSet , predictions)\n",
    "print(accuracy1)\n"
   ]
  },
  {
   "cell_type": "markdown",
   "metadata": {},
   "source": [
    "# Importing stuff"
   ]
  },
  {
   "cell_type": "code",
   "execution_count": 8,
   "metadata": {},
   "outputs": [],
   "source": [
    "from python_speech_features import mfcc\n",
    "import scipy.io.wavfile as wav\n",
    "import numpy as np\n",
    "from tempfile import TemporaryFile\n",
    "import os\n",
    "import pickle\n",
    "import random \n",
    "import operator\n",
    "\n",
    "import math\n",
    "import numpy as np\n",
    "from collections import defaultdict"
   ]
  },
  {
   "cell_type": "markdown",
   "metadata": {},
   "source": [
    "# Compiling everything at one place"
   ]
  },
  {
   "cell_type": "code",
   "execution_count": 9,
   "metadata": {
    "colab": {
     "base_uri": "https://localhost:8080/"
    },
    "id": "x9DEHVNjJpkj",
    "outputId": "6f2ef634-3986-4890-dd57-48b4f311d125"
   },
   "outputs": [
    {
     "name": "stdout",
     "output_type": "stream",
     "text": [
      "blues\n"
     ]
    }
   ],
   "source": [
    "\n",
    "dataset = []\n",
    "def loadDataset(filename):\n",
    "    with open(\"my.dat\" , 'rb') as f:\n",
    "        while True:\n",
    "            try:\n",
    "                dataset.append(pickle.load(f))\n",
    "            except EOFError:\n",
    "                f.close()\n",
    "                break\n",
    "\n",
    "loadDataset(\"my.dat\")\n",
    "\n",
    "def distance(instance1 , instance2 , k ):\n",
    "    distance =0 \n",
    "    mm1 = instance1[0] \n",
    "    cm1 = instance1[1]\n",
    "    mm2 = instance2[0]\n",
    "    cm2 = instance2[1]\n",
    "    distance = np.trace(np.dot(np.linalg.inv(cm2), cm1)) \n",
    "    distance+=(np.dot(np.dot((mm2-mm1).transpose() , np.linalg.inv(cm2)) , mm2-mm1 )) \n",
    "    distance+= np.log(np.linalg.det(cm2)) - np.log(np.linalg.det(cm1))\n",
    "    distance-= k\n",
    "    return distance\n",
    "\n",
    "def getNeighbors(trainingSet , instance , k):\n",
    "    distances =[]\n",
    "    for x in range (len(trainingSet)):\n",
    "        dist = distance(trainingSet[x], instance, k )+ distance(instance, trainingSet[x], k)\n",
    "        distances.append((trainingSet[x][2], dist))\n",
    "    distances.sort(key=operator.itemgetter(1))\n",
    "    neighbors = []\n",
    "    for x in range(k):\n",
    "        neighbors.append(distances[x][0])\n",
    "    return neighbors\n",
    "\n",
    "def nearestClass(neighbors):\n",
    "    classVote ={}\n",
    "    for x in range(len(neighbors)):\n",
    "        response = neighbors[x]\n",
    "        if response in classVote:\n",
    "            classVote[response]+=1 \n",
    "        else:\n",
    "            classVote[response]=1 \n",
    "    sorter = sorted(classVote.items(), key = operator.itemgetter(1), reverse=True)\n",
    "    return sorter[0][0]\n",
    "\n",
    "results=defaultdict(int)\n",
    "\n",
    "i=1\n",
    "for folder in os.listdir(\"./Music/genres\"):\n",
    "    results[i]=folder\n",
    "    i+=1\n",
    "\n",
    "(rate,sig)=wav.read(\"./Music/genres/blues/blues.00071.wav\")\n",
    "mfcc_feat=mfcc(sig,rate,winlen=0.020,appendEnergy=False)\n",
    "covariance = np.cov(np.matrix.transpose(mfcc_feat))\n",
    "mean_matrix = mfcc_feat.mean(0)\n",
    "feature=(mean_matrix,covariance,0)\n",
    "\n",
    "pred=nearestClass(getNeighbors(dataset ,feature , 5))\n",
    "\n",
    "print(results[pred])"
   ]
  },
  {
   "cell_type": "markdown",
   "metadata": {},
   "source": [
    "# Random Data Exploration "
   ]
  },
  {
   "cell_type": "code",
   "execution_count": 10,
   "metadata": {},
   "outputs": [
    {
     "name": "stdout",
     "output_type": "stream",
     "text": [
      "defaultdict(<class 'int'>, {1: 'blues', 2: 'classical', 3: 'country', 4: 'disco', 5: 'hiphop', 6: 'jazz', 7: 'metal', 8: 'pop', 9: 'reggae', 10: 'rock'})\n"
     ]
    }
   ],
   "source": [
    "print(results)"
   ]
  },
  {
   "cell_type": "code",
   "execution_count": 11,
   "metadata": {
    "id": "TH9oaKaa86l2"
   },
   "outputs": [
    {
     "name": "stdout",
     "output_type": "stream",
     "text": [
      "./Music/genres/blues/blues.00070.wav\n",
      "22050\n",
      "[-1252 -2045 -2073 ...  1272   822   197] (661794,)\n",
      "\n",
      "./Music/genres/blues/blues.00071.wav\n",
      "22050\n",
      "[ -820 -5094 -7456 ...  -290  -411 -1802] (661794,)\n",
      "\n",
      "./Music/genres/blues/blues.00072.wav\n",
      "22050\n",
      "[1373 3702 5015 ...  807  517  423] (661794,)\n",
      "\n"
     ]
    }
   ],
   "source": [
    "# Data Exploration\n",
    "for i in range (70,73):\n",
    "    print(\"./Music/genres/blues/blues.000\"+ str(i) +\".wav\")\n",
    "    (rate,sig)=wav.read(\"./Music/genres/blues/blues.000\"+ str(i) +\".wav\")\n",
    "    print(rate)\n",
    "    print(sig,sig.shape)\n",
    "    print()\n"
   ]
  },
  {
   "cell_type": "code",
   "execution_count": 12,
   "metadata": {},
   "outputs": [
    {
     "ename": "NameError",
     "evalue": "name 'get_data' is not defined",
     "output_type": "error",
     "traceback": [
      "\u001b[1;31m---------------------------------------------------------------------------\u001b[0m",
      "\u001b[1;31mNameError\u001b[0m                                 Traceback (most recent call last)",
      "\u001b[1;32m<ipython-input-12-9fea73c0c56f>\u001b[0m in \u001b[0;36m<module>\u001b[1;34m\u001b[0m\n\u001b[0;32m      1\u001b[0m \u001b[0mfile\u001b[0m \u001b[1;33m=\u001b[0m \u001b[1;34m\"blues.00003.wav\"\u001b[0m\u001b[1;33m\u001b[0m\u001b[1;33m\u001b[0m\u001b[0m\n\u001b[1;32m----> 2\u001b[1;33m \u001b[0mf\u001b[0m \u001b[1;33m=\u001b[0m \u001b[0mget_data\u001b[0m\u001b[1;33m(\u001b[0m\u001b[0mfile\u001b[0m\u001b[1;33m)\u001b[0m\u001b[1;33m\u001b[0m\u001b[1;33m\u001b[0m\u001b[0m\n\u001b[0m\u001b[0;32m      3\u001b[0m \u001b[0mprint\u001b[0m\u001b[1;33m(\u001b[0m\u001b[0mtype\u001b[0m\u001b[1;33m(\u001b[0m\u001b[0mf\u001b[0m\u001b[1;33m)\u001b[0m\u001b[1;33m)\u001b[0m\u001b[1;33m\u001b[0m\u001b[1;33m\u001b[0m\u001b[0m\n\u001b[0;32m      4\u001b[0m \u001b[1;33m\u001b[0m\u001b[0m\n\u001b[0;32m      5\u001b[0m \u001b[0mprint\u001b[0m\u001b[1;33m(\u001b[0m\u001b[0mlen\u001b[0m\u001b[1;33m(\u001b[0m\u001b[0mdataset\u001b[0m\u001b[1;33m)\u001b[0m\u001b[1;33m)\u001b[0m\u001b[1;33m\u001b[0m\u001b[1;33m\u001b[0m\u001b[0m\n",
      "\u001b[1;31mNameError\u001b[0m: name 'get_data' is not defined"
     ]
    }
   ],
   "source": [
    "file = \"blues.00003.wav\"\n",
    "f = get_data(file)\n",
    "print(type(f))\n",
    "\n",
    "print(len(dataset))"
   ]
  },
  {
   "cell_type": "markdown",
   "metadata": {},
   "source": [
    "# Function to load the uploaded file from Flask app"
   ]
  },
  {
   "cell_type": "code",
   "execution_count": 13,
   "metadata": {},
   "outputs": [],
   "source": [
    "def get_data(filename):\n",
    "    (rate,sig)=wav.read(filename)\n",
    "    mfcc_feat=mfcc(sig,rate,winlen=0.020,appendEnergy=False)\n",
    "    covariance = np.cov(np.matrix.transpose(mfcc_feat))\n",
    "    mean_matrix = mfcc_feat.mean(0)\n",
    "    feature=(mean_matrix,covariance,0)\n",
    "    return feature\n"
   ]
  },
  {
   "cell_type": "markdown",
   "metadata": {},
   "source": [
    "# Flask App"
   ]
  },
  {
   "cell_type": "code",
   "execution_count": 30,
   "metadata": {},
   "outputs": [
    {
     "name": "stdout",
     "output_type": "stream",
     "text": [
      "Collecting flask_cors\n",
      "  Downloading Flask_Cors-3.0.10-py2.py3-none-any.whl (14 kB)\n",
      "Requirement already satisfied: Six in c:\\users\\ishaa\\anaconda3\\lib\\site-packages (from flask_cors) (1.15.0)\n",
      "Requirement already satisfied: Flask>=0.9 in c:\\users\\ishaa\\anaconda3\\lib\\site-packages (from flask_cors) (1.1.2)\n",
      "Requirement already satisfied: Jinja2>=2.10.1 in c:\\users\\ishaa\\anaconda3\\lib\\site-packages (from Flask>=0.9->flask_cors) (2.11.2)\n",
      "Requirement already satisfied: Werkzeug>=0.15 in c:\\users\\ishaa\\anaconda3\\lib\\site-packages (from Flask>=0.9->flask_cors) (1.0.1)\n",
      "Requirement already satisfied: itsdangerous>=0.24 in c:\\users\\ishaa\\anaconda3\\lib\\site-packages (from Flask>=0.9->flask_cors) (1.1.0)\n",
      "Requirement already satisfied: click>=5.1 in c:\\users\\ishaa\\anaconda3\\lib\\site-packages (from Flask>=0.9->flask_cors) (7.1.2)\n",
      "Requirement already satisfied: MarkupSafe>=0.23 in c:\\users\\ishaa\\anaconda3\\lib\\site-packages (from Jinja2>=2.10.1->Flask>=0.9->flask_cors) (1.1.1)\n",
      "Installing collected packages: flask-cors\n",
      "Successfully installed flask-cors-3.0.10\n",
      "Note: you may need to restart the kernel to use updated packages.\n"
     ]
    }
   ],
   "source": [
    "pip install flask_cors"
   ]
  },
  {
   "cell_type": "code",
   "execution_count": 16,
   "metadata": {},
   "outputs": [],
   "source": [
    "from flask import Flask, render_template, request, jsonify\n",
    "import base64\n",
    "from flask_cors import CORS, cross_origin\n",
    "\n",
    "app = Flask(__name__, template_folder=\"templates\")\n",
    "cors = CORS(app)\n",
    "app.config['CORS_HEADERS'] = 'Content-Type'\n",
    "\n",
    "@app.route('/',methods=['GET'])\n",
    "def main_page():\n",
    "    return render_template('index.html')\n",
    "\n",
    "# @app.route('/upload')\n",
    "# def upload_file():\n",
    "#     return render_template('upload.html')\n",
    "\n",
    "@app.route('/uploader', methods = ['GET', 'POST'])\n",
    "@cross_origin()\n",
    "def upload_file():\n",
    "    print(\"got req\")\n",
    "    print(\"request\",request)\n",
    "    print(\"request.form\",request.form)\n",
    "#     print(\"request.form['music']\",request.form['music'])\n",
    "    \n",
    "    print(\"request.files\",request.files)\n",
    "                                                                \n",
    "    if request.method == 'POST':\n",
    "        print(\"got post req\")\n",
    "        print(request.files)\n",
    "        f = request.files['music'] \n",
    "        print(\"type(f)\",type(f))\n",
    "        print(\"f.filename\",f.filename)\n",
    "        f.save(f.filename)  \n",
    "        print(\"file saved\")\n",
    "        \n",
    "        filename = f.filename        \n",
    "        prediction = \"Error | feature = None\"\n",
    "        feature = None\n",
    "        try:\n",
    "            feature = get_data(str(filename))\n",
    "            if feature!=None:\n",
    "                c=1\n",
    "                prediction = nearestClass(getNeighbors(dataset ,feature , 5))\n",
    "                c=1\n",
    "        except:\n",
    "            print(prediction)\n",
    "            return render_template('index.html',response=\"Ran Into error\", success=False)\n",
    "        \n",
    "        print(results[prediction])\n",
    "        return render_template('index.html',response=str(results[prediction]), success=True)\n",
    "    \n",
    "    return render_template('index.html',response=str(prediction), success=False)\n"
   ]
  },
  {
   "cell_type": "code",
   "execution_count": null,
   "metadata": {},
   "outputs": [
    {
     "name": "stdout",
     "output_type": "stream",
     "text": [
      " * Serving Flask app \"__main__\" (lazy loading)\n",
      " * Environment: production\n",
      "   WARNING: This is a development server. Do not use it in a production deployment.\n",
      "   Use a production WSGI server instead.\n",
      " * Debug mode: off\n"
     ]
    },
    {
     "name": "stderr",
     "output_type": "stream",
     "text": [
      " * Running on http://127.0.0.1:5000/ (Press CTRL+C to quit)\n",
      "127.0.0.1 - - [24/Aug/2021 17:46:32] \"\u001b[37mGET / HTTP/1.1\u001b[0m\" 200 -\n"
     ]
    },
    {
     "name": "stdout",
     "output_type": "stream",
     "text": [
      "got req\n",
      "request <Request 'http://127.0.0.1:5000/uploader' [POST]>\n",
      "request.form ImmutableMultiDict([])\n",
      "request.files ImmutableMultiDict([('music', <FileStorage: 'blues.00003.wav' ('audio/wav')>)])\n",
      "got post req\n",
      "ImmutableMultiDict([('music', <FileStorage: 'blues.00003.wav' ('audio/wav')>)])\n",
      "type(f) <class 'werkzeug.datastructures.FileStorage'>\n",
      "f.filename blues.00003.wav\n",
      "file saved\n"
     ]
    },
    {
     "name": "stderr",
     "output_type": "stream",
     "text": [
      "127.0.0.1 - - [24/Aug/2021 17:46:46] \"\u001b[37mPOST /uploader HTTP/1.1\u001b[0m\" 200 -\n"
     ]
    },
    {
     "name": "stdout",
     "output_type": "stream",
     "text": [
      "blues\n"
     ]
    }
   ],
   "source": [
    "app.run(port = 5000)"
   ]
  },
  {
   "cell_type": "code",
   "execution_count": null,
   "metadata": {},
   "outputs": [],
   "source": []
  },
  {
   "cell_type": "code",
   "execution_count": null,
   "metadata": {},
   "outputs": [],
   "source": []
  }
 ],
 "metadata": {
  "colab": {
   "name": "music1.ipynb",
   "provenance": []
  },
  "kernelspec": {
   "display_name": "Python 3",
   "language": "python",
   "name": "python3"
  },
  "language_info": {
   "codemirror_mode": {
    "name": "ipython",
    "version": 3
   },
   "file_extension": ".py",
   "mimetype": "text/x-python",
   "name": "python",
   "nbconvert_exporter": "python",
   "pygments_lexer": "ipython3",
   "version": "3.8.3"
  }
 },
 "nbformat": 4,
 "nbformat_minor": 1
}
